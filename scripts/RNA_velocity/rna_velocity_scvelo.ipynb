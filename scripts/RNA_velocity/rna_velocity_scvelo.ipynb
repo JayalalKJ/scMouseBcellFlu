{
 "cells": [
  {
   "cell_type": "markdown",
   "metadata": {},
   "source": [
    "# RNA Velocity analysis using scVelo"
   ]
  },
  {
   "cell_type": "code",
   "execution_count": null,
   "metadata": {},
   "outputs": [],
   "source": [
    "import scanpy as sc\n",
    "import scvelo as scv\n",
    "import numpy as np\n",
    "import glob\n",
    "import os\n",
    "import re"
   ]
  },
  {
   "cell_type": "code",
   "execution_count": null,
   "metadata": {},
   "outputs": [],
   "source": [
    "# specify project directory\n",
    "proj_dir = '/Users/jonrob/Documents/NBIS/LTS_projects/d_angeletti_1910/scMouseBcellFlu'"
   ]
  },
  {
   "cell_type": "code",
   "execution_count": null,
   "metadata": {},
   "outputs": [],
   "source": [
    "# specify figure params\n",
    "scv.set_figure_params(dpi=80, frameon=False, figsize=(7, 7), facecolor='white')"
   ]
  },
  {
   "cell_type": "markdown",
   "metadata": {},
   "source": [
    "## Load and preprocess RNA velocity data (.loom files) "
   ]
  },
  {
   "cell_type": "code",
   "execution_count": null,
   "metadata": {
    "scrolled": true
   },
   "outputs": [],
   "source": [
    "# specify directory containing RNA velocity .loom files\n",
    "loom_dir = proj_dir + '/data/rna_velocity/loom_files/'"
   ]
  },
  {
   "cell_type": "code",
   "execution_count": null,
   "metadata": {},
   "outputs": [],
   "source": [
    "# get list of directories in loom_dir (only those containing underscore \"_\")\n",
    "loom_subdirs = glob.glob(loom_dir + '*_*')\n",
    "\n",
    "# initialize loom_data with first file\n",
    "sd = loom_subdirs.pop(0)\n",
    "loom_data = scv.read_loom(glob.glob(sd + '/*.loom')[0])\n",
    "loom_data.var_names_make_unique()\n",
    "loom_data.obs['dataset'] = os.path.split(sd)[1]\n"
   ]
  },
  {
   "cell_type": "code",
   "execution_count": null,
   "metadata": {},
   "outputs": [],
   "source": [
    "# append other datasets to loom_data\n",
    "for sd in loom_subdirs:\n",
    "    loom_files = glob.glob(sd + '/*.loom')\n",
    "    if len(loom_files) == 1:\n",
    "        ldat = scv.read_loom(loom_files[0])\n",
    "        ldat.var_names_make_unique()\n",
    "        ldat.obs['dataset'] = os.path.split(sd)[1]\n",
    "        loom_data = loom_data.concatenate(ldat, join='outer', index_unique=None)\n",
    "    elif len(loom_files) > 1:\n",
    "        raise NameError('Each directory should only contain one loom file!')\n",
    "    else:\n",
    "        print('No loom files found in ' + os.path.split(sd)[1])\n",
    "\n",
    "del loom_data.obs['batch']  # remove unneeded obs field"
   ]
  },
  {
   "cell_type": "code",
   "execution_count": null,
   "metadata": {},
   "outputs": [],
   "source": [
    "# rename cells to be consistent with naming in RNA-Seq data (barcode seq + dataset)\n",
    "loom_data.obs_names = [re.split(':|x', x)[1] + '_' + loom_data.obs['dataset'][x] for x in loom_data.obs_names]"
   ]
  },
  {
   "cell_type": "markdown",
   "metadata": {},
   "source": [
    "## Load RNA-Seq data and merge with RNA velocity data"
   ]
  },
  {
   "cell_type": "code",
   "execution_count": null,
   "metadata": {},
   "outputs": [],
   "source": [
    "# specify path and filename of AnnData object containing RNA-Seq data\n",
    "ann_file = proj_dir + '/analysis/06_cluster/anndata_object_VDJannot.h5ad'\n",
    "#ann_file = proj_dir + '/analysis/06_cluster/anndata_object_noplasma.h5ad'\n",
    "#ann_file = proj_dir + '/analysis/trajectory_slingshot/trajectory_05/seurat_object_VDJannot_tr5.h5ad'"
   ]
  },
  {
   "cell_type": "code",
   "execution_count": null,
   "metadata": {},
   "outputs": [],
   "source": [
    "# load scRNA-Seq AnnData object\n",
    "adata = sc.read_h5ad(ann_file)"
   ]
  },
  {
   "cell_type": "code",
   "execution_count": null,
   "metadata": {},
   "outputs": [],
   "source": [
    "# merge scRNA-Seq data with RNA velocity data (spliced and unspliced counts)\n",
    "adata = scv.utils.merge(adata, loom_data)"
   ]
  },
  {
   "cell_type": "code",
   "execution_count": null,
   "metadata": {},
   "outputs": [],
   "source": [
    "# OPTIONAL: Subset data to only include specified clusters\n",
    "adata = adata[adata.obs['HC_16'].isin([2,3,4,5,8,9,10,11,12,13,14,15,16])]"
   ]
  },
  {
   "cell_type": "markdown",
   "metadata": {},
   "source": [
    "## RNA velocity preprocessing and calculation"
   ]
  },
  {
   "cell_type": "code",
   "execution_count": null,
   "metadata": {},
   "outputs": [],
   "source": [
    "# compute first and second order moments for velocity estimation\n",
    "scv.pp.moments(adata, use_rep='mnn_cell_embeddings', n_neighbors=15)"
   ]
  },
  {
   "cell_type": "code",
   "execution_count": null,
   "metadata": {},
   "outputs": [],
   "source": [
    "# Recover the full splicing kinetics of the genes (only necessary for \"dynamical\" velocity mode below)\n",
    "#scv.tl.recover_dynamics(adata, plot_results=True)"
   ]
  },
  {
   "cell_type": "code",
   "execution_count": null,
   "metadata": {},
   "outputs": [],
   "source": [
    "# compute cell velocities\n",
    "scv.tl.velocity(adata, mode='stochastic')\n",
    "#scv.tl.velocity(adata, mode='dynamical')"
   ]
  },
  {
   "cell_type": "code",
   "execution_count": null,
   "metadata": {},
   "outputs": [],
   "source": [
    "# compute velocity graph based on cell cosine similarities\n",
    "scv.tl.velocity_graph(adata)"
   ]
  },
  {
   "cell_type": "markdown",
   "metadata": {},
   "source": [
    "## Visualization of cell velocities and pseudotime"
   ]
  },
  {
   "cell_type": "code",
   "execution_count": null,
   "metadata": {},
   "outputs": [],
   "source": [
    "# visualize the velocity graph on the embedding\n",
    "scv.pl.velocity_graph(adata, basis='umap_cell_embeddings', threshold=0.5, color='HC_16', edge_width=0.05)"
   ]
  },
  {
   "cell_type": "code",
   "execution_count": null,
   "metadata": {},
   "outputs": [],
   "source": [
    "# generate stream plot of cell velocities on the embedding\n",
    "scv.pl.velocity_embedding_stream(adata, basis='umap_cell_embeddings',\n",
    "                                 color='HC_16', size=10, alpha=1, min_mass=0)"
   ]
  },
  {
   "cell_type": "code",
   "execution_count": null,
   "metadata": {},
   "outputs": [],
   "source": [
    "# visualize velocity and expression of some specific genes\n",
    "scv.pl.velocity(adata, basis='umap_cell_embeddings', var_names=['Ighd','Ighg1','Ighm','Igha','Aicda'])"
   ]
  },
  {
   "cell_type": "code",
   "execution_count": null,
   "metadata": {},
   "outputs": [],
   "source": [
    "# visualize some additional features\n",
    "scv.pl.scatter(adata, basis='umap_cell_embeddings', color=['MU_FREQ_TOT'], vmax=0.04, size=50, alpha=0.5)"
   ]
  },
  {
   "cell_type": "code",
   "execution_count": null,
   "metadata": {},
   "outputs": [],
   "source": [
    "# visualize velocity magnitude and confidence\n",
    "scv.tl.velocity_confidence(adata)\n",
    "keys = ['velocity_length', 'velocity_confidence']\n",
    "scv.pl.scatter(adata, c=keys, cmap='coolwarm', perc=[5, 95], basis='umap_cell_embeddings')"
   ]
  },
  {
   "cell_type": "code",
   "execution_count": null,
   "metadata": {},
   "outputs": [],
   "source": [
    "# simulate the predicted descendents originating from a specified cell\n",
    "root_cell = [i for i, x in enumerate(adata.obs['HC_16']) if x == '3'][0]  # choose cell in cluster 3 as root cell\n",
    "x, y = scv.utils.get_cell_transitions(adata, basis='umap_cell_embeddings', starting_cell=root_cell, n_steps=1000, random_state=42)\n",
    "ax = scv.pl.velocity_graph(adata, c='lightgrey', edge_width=.05, show=False, basis='umap_cell_embeddings')\n",
    "ax = scv.pl.scatter(adata, x=x, y=y, s=50, c='ascending', cmap='gnuplot', ax=ax, basis='umap_cell_embeddings')"
   ]
  },
  {
   "cell_type": "code",
   "execution_count": null,
   "metadata": {},
   "outputs": [],
   "source": [
    "# visualize velocity pseudotime on embedding\n",
    "scv.tl.velocity_pseudotime(adata, root=root_cell)\n",
    "scv.pl.scatter(adata, color='velocity_pseudotime', cmap='gnuplot', basis='umap_cell_embeddings')"
   ]
  },
  {
   "cell_type": "code",
   "execution_count": null,
   "metadata": {},
   "outputs": [],
   "source": [
    "# visualize velocity latent time on embedding (must first run scv.tl.recover_dynamics above!)\n",
    "adata.uns['iroot'] = root_cell\n",
    "scv.tl.latent_time(adata, root_key='iroot')\n",
    "scv.pl.scatter(adata, color='latent_time', cmap='gnuplot', basis='umap_cell_embeddings')"
   ]
  },
  {
   "cell_type": "markdown",
   "metadata": {},
   "source": [
    "## PAGA velocity graph"
   ]
  },
  {
   "cell_type": "code",
   "execution_count": null,
   "metadata": {},
   "outputs": [],
   "source": [
    "# Run PAGA\n",
    "# this is needed due to a current bug\n",
    "adata.uns['neighbors']['distances'] = adata.obsp['distances']\n",
    "adata.uns['neighbors']['connectivities'] = adata.obsp['connectivities']\n",
    "\n",
    "scv.tl.paga(adata, groups='HC_16')\n",
    "df = scv.get_df(adata, 'paga/transitions_confidence', precision=2).T\n",
    "df.style.background_gradient(cmap='Blues').format('{:.2g}')\n"
   ]
  },
  {
   "cell_type": "code",
   "execution_count": null,
   "metadata": {},
   "outputs": [],
   "source": [
    "# visualize the PAGA velocity graph on the embedding\n",
    "scv.pl.paga(adata, basis='umap_cell_embeddings', color='HC_16', size=10, alpha=0.5,\n",
    "            min_edge_width=2, node_size_scale=2, legend_loc='on data', node_size_power=1)"
   ]
  },
  {
   "cell_type": "code",
   "execution_count": null,
   "metadata": {},
   "outputs": [],
   "source": []
  }
 ],
 "metadata": {
  "kernelspec": {
   "display_name": "Python 3",
   "language": "python",
   "name": "python3"
  },
  "language_info": {
   "codemirror_mode": {
    "name": "ipython",
    "version": 3
   },
   "file_extension": ".py",
   "mimetype": "text/x-python",
   "name": "python",
   "nbconvert_exporter": "python",
   "pygments_lexer": "ipython3",
   "version": "3.8.3"
  }
 },
 "nbformat": 4,
 "nbformat_minor": 4
}
